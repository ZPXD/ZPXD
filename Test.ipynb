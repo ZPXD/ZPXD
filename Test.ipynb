{
 "cells": [
  {
   "cell_type": "markdown",
   "id": "f6b03d14",
   "metadata": {},
   "source": [
    "#### Test\n",
    "\n",
    "\n",
    "Testowy jupyter."
   ]
  },
  {
   "cell_type": "code",
   "execution_count": 2,
   "id": "3b77e7ff",
   "metadata": {},
   "outputs": [
    {
     "name": "stdout",
     "output_type": "stream",
     "text": [
      "testowy kod\n"
     ]
    }
   ],
   "source": [
    "x = 'testowy kod'\n",
    "print(x)"
   ]
  },
  {
   "cell_type": "code",
   "execution_count": null,
   "id": "811cced6",
   "metadata": {},
   "outputs": [],
   "source": []
  }
 ],
 "metadata": {
  "kernelspec": {
   "display_name": "Python 3 (ipykernel)",
   "language": "python",
   "name": "python3"
  },
  "language_info": {
   "codemirror_mode": {
    "name": "ipython",
    "version": 3
   },
   "file_extension": ".py",
   "mimetype": "text/x-python",
   "name": "python",
   "nbconvert_exporter": "python",
   "pygments_lexer": "ipython3",
   "version": "3.8.10"
  }
 },
 "nbformat": 4,
 "nbformat_minor": 5
}
